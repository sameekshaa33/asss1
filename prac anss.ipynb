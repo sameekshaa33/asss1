{
 "cells": [
  {
   "cell_type": "code",
   "execution_count": 1,
   "metadata": {},
   "outputs": [
    {
     "name": "stdout",
     "output_type": "stream",
     "text": [
      "it is positive\n"
     ]
    }
   ],
   "source": [
    "num=90\n",
    "if num<0:\n",
    "    print(\"it is negative\")\n",
    "else:\n",
    "    print(\"it is positive\")"
   ]
  },
  {
   "cell_type": "code",
   "execution_count": 15,
   "metadata": {},
   "outputs": [
    {
     "name": "stdout",
     "output_type": "stream",
     "text": [
      "67 it is odd\n"
     ]
    }
   ],
   "source": [
    "num=67\n",
    "if num%2==0:\n",
    "    print(num,\"it is even\")\n",
    "else:\n",
    "    print(num,\"it is odd\")"
   ]
  },
  {
   "cell_type": "code",
   "execution_count": 3,
   "metadata": {},
   "outputs": [
    {
     "name": "stdout",
     "output_type": "stream",
     "text": [
      "It is zero\n"
     ]
    }
   ],
   "source": [
    "num=0\n",
    "if num>0:\n",
    "    print(\"It is positive\")\n",
    "elif num<0:\n",
    "    print(\"It is negative\")\n",
    "else:\n",
    "    print(\"It is zero\")"
   ]
  },
  {
   "cell_type": "code",
   "execution_count": 4,
   "metadata": {},
   "outputs": [
    {
     "name": "stdout",
     "output_type": "stream",
     "text": [
      "it is div by 2 and 3\n"
     ]
    }
   ],
   "source": [
    "num=6\n",
    "if num%2==0 and num%3==0:\n",
    "    print(\"it is div by 2 and 3\")\n",
    "else:\n",
    "    print(\"it is not divisible by 2 and 3\")"
   ]
  },
  {
   "cell_type": "code",
   "execution_count": 6,
   "metadata": {},
   "outputs": [
    {
     "name": "stdout",
     "output_type": "stream",
     "text": [
      "div by 2\n"
     ]
    }
   ],
   "source": [
    "num=6\n",
    "if num%2==0:\n",
    "    print(\"div by 2\")\n",
    "elif num%3==0:\n",
    "    print(\"div by 3\")\n",
    "else:\n",
    "    print(\"not div by 2 and 3\")"
   ]
  },
  {
   "cell_type": "code",
   "execution_count": 8,
   "metadata": {},
   "outputs": [
    {
     "name": "stdout",
     "output_type": "stream",
     "text": [
      "it is equal to 100\n"
     ]
    }
   ],
   "source": [
    "num=100\n",
    "if num<100:\n",
    "    print(\"it is less than 100\")\n",
    "elif num>100:\n",
    "    print(\"it is greater than 100\")\n",
    "else:\n",
    "    print(\"it is equal to 100\")"
   ]
  },
  {
   "cell_type": "code",
   "execution_count": 11,
   "metadata": {},
   "outputs": [
    {
     "name": "stdout",
     "output_type": "stream",
     "text": [
      "between 51 and 100\n"
     ]
    }
   ],
   "source": [
    "num=51\n",
    "if num>=0 and num<=50:\n",
    "    print(\"between 1 and 50\")\n",
    "elif num>=51 and num<=100:\n",
    "    print(\"between 51 and 100\") \n",
    "else:\n",
    "    print(\"above 100\")"
   ]
  },
  {
   "cell_type": "code",
   "execution_count": 12,
   "metadata": {},
   "outputs": [
    {
     "name": "stdout",
     "output_type": "stream",
     "text": [
      "between 51 and 100\n"
     ]
    }
   ],
   "source": [
    "num = 51\n",
    "\n",
    "if 1 <= num <= 50:\n",
    "    print(\"between 1 and 50\")\n",
    "elif 51 <= num <= 100:\n",
    "    print(\"between 51 and 100\")\n",
    "else:\n",
    "    print(\"above 100\")\n"
   ]
  },
  {
   "cell_type": "code",
   "execution_count": 13,
   "metadata": {},
   "outputs": [
    {
     "name": "stdout",
     "output_type": "stream",
     "text": [
      "multiple of 10\n"
     ]
    }
   ],
   "source": [
    "num=100\n",
    "if num%10==0:\n",
    "    print(\"multiple of 10\")\n",
    "else:\n",
    "    print(\"not multiple\")"
   ]
  },
  {
   "cell_type": "code",
   "execution_count": 14,
   "metadata": {},
   "outputs": [
    {
     "name": "stdout",
     "output_type": "stream",
     "text": [
      "67 it is odd\n"
     ]
    }
   ],
   "source": [
    "num=67\n",
    "if num%2==0:\n",
    "    print(num,\"it is even\")\n",
    "elif num%2!=0:\n",
    "    print(num,\"it is odd\")\n",
    "else:\n",
    "    print(\"zero\")"
   ]
  },
  {
   "cell_type": "code",
   "execution_count": 16,
   "metadata": {},
   "outputs": [
    {
     "name": "stdout",
     "output_type": "stream",
     "text": [
      "large\n"
     ]
    }
   ],
   "source": [
    "num=100\n",
    "if num<10:\n",
    "    print(\"small\")\n",
    "elif num>=10 and num<=50:\n",
    "    print(\"medium\")\n",
    "else:\n",
    "    print(\"large\")"
   ]
  },
  {
   "cell_type": "code",
   "execution_count": 3,
   "metadata": {},
   "outputs": [
    {
     "name": "stdout",
     "output_type": "stream",
     "text": [
      "12\n"
     ]
    }
   ],
   "source": [
    "#2\n",
    "num=6\n",
    "sum=0\n",
    "for i in range(1,num+1):\n",
    "    if (i%2==0):\n",
    "        sum=sum+i\n",
    "    i+=1\n",
    "print(sum)\n"
   ]
  },
  {
   "cell_type": "code",
   "execution_count": 3,
   "metadata": {},
   "outputs": [
    {
     "name": "stdout",
     "output_type": "stream",
     "text": [
      "650\n"
     ]
    }
   ],
   "source": [
    "sum=0\n",
    "for i in range(2,51,2):\n",
    "    sum=sum+i\n",
    "print(sum)\n"
   ]
  },
  {
   "cell_type": "code",
   "execution_count": 4,
   "metadata": {},
   "outputs": [
    {
     "name": "stdout",
     "output_type": "stream",
     "text": [
      "25\n"
     ]
    }
   ],
   "source": [
    "count=0\n",
    "for i in range(1,51):\n",
    "    if i%2==0:\n",
    "        count=count+1\n",
    "    i+=1\n",
    "print(count)"
   ]
  },
  {
   "cell_type": "code",
   "execution_count": 5,
   "metadata": {},
   "outputs": [
    {
     "name": "stdout",
     "output_type": "stream",
     "text": [
      "+\n",
      "++\n",
      "+++\n",
      "++++\n",
      "+++++\n"
     ]
    }
   ],
   "source": [
    "for i in range(1,6):\n",
    "    print(i*'+')"
   ]
  },
  {
   "cell_type": "code",
   "execution_count": 12,
   "metadata": {},
   "outputs": [
    {
     "name": "stdout",
     "output_type": "stream",
     "text": [
      "    +\n",
      "   +++\n",
      "  +++++\n",
      " +++++++\n"
     ]
    }
   ],
   "source": [
    "for i in range(1,5):\n",
    "    print((4-i)*' ',((i*2)-1)*\"+\")#4-1=3,4-2=2,etccc,,,"
   ]
  },
  {
   "cell_type": "code",
   "execution_count": 18,
   "metadata": {},
   "outputs": [
    {
     "name": "stdout",
     "output_type": "stream",
     "text": [
      " +++++++\n",
      "  +++++\n",
      "   +++\n",
      "    +\n"
     ]
    }
   ],
   "source": [
    "n=4\n",
    "for i in range(n,0,-1):\n",
    "    print((n-i)*' ',((i*2)-1)*\"+\")"
   ]
  },
  {
   "cell_type": "code",
   "execution_count": null,
   "metadata": {},
   "outputs": [],
   "source": []
  },
  {
   "cell_type": "code",
   "execution_count": null,
   "metadata": {},
   "outputs": [],
   "source": []
  }
 ],
 "metadata": {
  "kernelspec": {
   "display_name": "Python 3",
   "language": "python",
   "name": "python3"
  },
  "language_info": {
   "codemirror_mode": {
    "name": "ipython",
    "version": 3
   },
   "file_extension": ".py",
   "mimetype": "text/x-python",
   "name": "python",
   "nbconvert_exporter": "python",
   "pygments_lexer": "ipython3",
   "version": "3.12.3"
  }
 },
 "nbformat": 4,
 "nbformat_minor": 2
}
