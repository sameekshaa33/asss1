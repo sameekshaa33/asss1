{
 "cells": [
  {
   "cell_type": "code",
   "execution_count": 1,
   "metadata": {},
   "outputs": [
    {
     "data": {
      "text/plain": [
       "5"
      ]
     },
     "execution_count": 1,
     "metadata": {},
     "output_type": "execute_result"
    }
   ],
   "source": [
    "5"
   ]
  },
  {
   "cell_type": "code",
   "execution_count": 3,
   "metadata": {},
   "outputs": [
    {
     "data": {
      "text/plain": [
       "False"
      ]
     },
     "execution_count": 3,
     "metadata": {},
     "output_type": "execute_result"
    }
   ],
   "source": [
    "#==--is for comparing the values,single = is for assiging values\n",
    "100==100\n",
    "100==78"
   ]
  },
  {
   "cell_type": "code",
   "execution_count": 4,
   "metadata": {},
   "outputs": [
    {
     "data": {
      "text/plain": [
       "True"
      ]
     },
     "execution_count": 4,
     "metadata": {},
     "output_type": "execute_result"
    }
   ],
   "source": [
    "False or True or False or False"
   ]
  },
  {
   "cell_type": "code",
   "execution_count": 6,
   "metadata": {},
   "outputs": [
    {
     "name": "stdout",
     "output_type": "stream",
     "text": [
      "test1\n",
      "test3\n"
     ]
    }
   ],
   "source": [
    "a=20\n",
    "b=a+30\n",
    "c=b+a \n",
    "if c>a and c+b>a:\n",
    "    print(\"test1\")\n",
    "print(\"test3\")\n"
   ]
  },
  {
   "cell_type": "code",
   "execution_count": 7,
   "metadata": {},
   "outputs": [
    {
     "name": "stdout",
     "output_type": "stream",
     "text": [
      "greater value is: 4\n"
     ]
    }
   ],
   "source": [
    "a=3\n",
    "b=4\n",
    "if(a>b):\n",
    "    print(\"greater value is:\",a)\n",
    "else:\n",
    "    print(\"greater value is:\",b)"
   ]
  },
  {
   "cell_type": "code",
   "execution_count": 9,
   "metadata": {},
   "outputs": [
    {
     "name": "stdout",
     "output_type": "stream",
     "text": [
      "c is greater: 89\n"
     ]
    }
   ],
   "source": [
    "a=45\n",
    "b=78\n",
    "c=89\n",
    "if(a>b)and(a>c):\n",
    "    print(\"a is greater:\",a)\n",
    "elif(b>a)and(b>c):\n",
    "    print(\"b is greater :\",b)\n",
    "else:\n",
    "    print(\"c is greater:\",c)"
   ]
  },
  {
   "cell_type": "code",
   "execution_count": 12,
   "metadata": {},
   "outputs": [
    {
     "name": "stdout",
     "output_type": "stream",
     "text": [
      "67 it is odd\n"
     ]
    }
   ],
   "source": [
    "num=67\n",
    "if num%2==0:\n",
    "    print(num,\"it is even\")\n",
    "else:\n",
    "    print(num,\"it is odd\")"
   ]
  },
  {
   "cell_type": "code",
   "execution_count": 14,
   "metadata": {},
   "outputs": [
    {
     "data": {
      "text/plain": [
       "9"
      ]
     },
     "execution_count": 14,
     "metadata": {},
     "output_type": "execute_result"
    }
   ],
   "source": [
    "9%10  "
   ]
  },
  {
   "cell_type": "code",
   "execution_count": 15,
   "metadata": {},
   "outputs": [
    {
     "name": "stdout",
     "output_type": "stream",
     "text": [
      "67 it is odd\n"
     ]
    }
   ],
   "source": [
    "num=67\n",
    "if num%2==0:\n",
    "    print(num,\"it is even\")\n",
    "if num%2!=0:\n",
    "    print(num,\"it is odd\")"
   ]
  },
  {
   "cell_type": "code",
   "execution_count": 16,
   "metadata": {},
   "outputs": [
    {
     "name": "stdout",
     "output_type": "stream",
     "text": [
      "t1\n",
      "t2\n"
     ]
    }
   ],
   "source": [
    "if 7>2:\n",
    "    print(\"t1\")\n",
    "#elif will check above condition is true then elif not exceuted\n",
    "if 10>7:\n",
    "    print(\"t2\")\n",
    "elif 7>6:\n",
    "    print(\"t3\")\n",
    "else:\n",
    "    print(\"t4\")"
   ]
  },
  {
   "cell_type": "code",
   "execution_count": 18,
   "metadata": {},
   "outputs": [
    {
     "name": "stdout",
     "output_type": "stream",
     "text": [
      "t1\n",
      "t3\n"
     ]
    }
   ],
   "source": [
    "if 7>2:\n",
    "    print(\"t1\")\n",
    "#elif will check above condition is true then elif not exceuted\n",
    "if 10>70:\n",
    "    print(\"t2\")#it is false\n",
    "elif 7>6:\n",
    "    print(\"t3\")#so elif will excute\n",
    "else:\n",
    "    print(\"t4\")"
   ]
  },
  {
   "cell_type": "code",
   "execution_count": 25,
   "metadata": {},
   "outputs": [
    {
     "name": "stdout",
     "output_type": "stream",
     "text": [
      "t1\n",
      "t2\n"
     ]
    }
   ],
   "source": [
    "if 7>2:\n",
    "    print(\"t1\")\n",
    "#elif will check above condition is true then elif not exceuted\n",
    "if 10>7:\n",
    "    print(\"t2\")\n",
    "elif 7>6:\n",
    "    print(\"t3\")\n",
    "elif 5>1:\n",
    "    print(\"t\")\n",
    "else:\n",
    "    print(\"t4\")"
   ]
  },
  {
   "cell_type": "code",
   "execution_count": 28,
   "metadata": {},
   "outputs": [
    {
     "name": "stdout",
     "output_type": "stream",
     "text": [
      "t1\n",
      "t\n"
     ]
    }
   ],
   "source": [
    "if 7>2:\n",
    "    print(\"t1\")\n",
    "#elif will check above condition is true then elif not exceuted\n",
    "if 1>7:\n",
    "    print(\"t2\")\n",
    "elif 3>6:\n",
    "    print(\"t3\")\n",
    "elif 5>1:\n",
    "    print(\"t\")\n",
    "else:\n",
    "    print(\"t4\")"
   ]
  },
  {
   "cell_type": "code",
   "execution_count": 27,
   "metadata": {},
   "outputs": [
    {
     "name": "stdout",
     "output_type": "stream",
     "text": [
      "t1\n",
      "t2\n",
      "t5\n"
     ]
    }
   ],
   "source": [
    "if 9>4:\n",
    "    print(\"t1\")\n",
    "if 80>9:\n",
    "    print(\"t2\")\n",
    "else:\n",
    "    print(\"t3\")\n",
    "if 9>1:\n",
    "    print(\"t5\")\n",
    "elif 8>7:\n",
    "    print(\"t6\")\n",
    "else:\n",
    "    print(\"t7\")"
   ]
  },
  {
   "cell_type": "code",
   "execution_count": 12,
   "metadata": {},
   "outputs": [
    {
     "name": "stdout",
     "output_type": "stream",
     "text": [
      "4\n"
     ]
    }
   ],
   "source": [
    "num=10\n",
    "i=1\n",
    "n=0\n",
    "while i<num+1:\n",
    "    if(num%i==0):\n",
    "        n+=1\n",
    "    i+=1\n",
    "print(n)\n",
    " "
   ]
  },
  {
   "cell_type": "code",
   "execution_count": 14,
   "metadata": {},
   "outputs": [
    {
     "name": "stdout",
     "output_type": "stream",
     "text": [
      "not prime\n"
     ]
    }
   ],
   "source": [
    "num=2\n",
    "i=1\n",
    "n=0\n",
    "while i<num+1:\n",
    "    if i%num==0:\n",
    "        n+=1\n",
    "    i+=1\n",
    "\n",
    "if n==2:\n",
    "    print(\"it is prime\")\n",
    "else:\n",
    "    print(\"not prime\")\n"
   ]
  }
 ],
 "metadata": {
  "kernelspec": {
   "display_name": "Python 3",
   "language": "python",
   "name": "python3"
  },
  "language_info": {
   "codemirror_mode": {
    "name": "ipython",
    "version": 3
   },
   "file_extension": ".py",
   "mimetype": "text/x-python",
   "name": "python",
   "nbconvert_exporter": "python",
   "pygments_lexer": "ipython3",
   "version": "3.12.3"
  }
 },
 "nbformat": 4,
 "nbformat_minor": 2
}
